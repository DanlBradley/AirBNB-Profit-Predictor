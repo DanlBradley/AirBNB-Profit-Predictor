{
 "cells": [
  {
   "cell_type": "code",
   "execution_count": 22,
   "metadata": {},
   "outputs": [],
   "source": [
    "import pandas as pd\n",
    "import numpy as np\n",
    "import matplotlib.pyplot as plt\n",
    "import statsmodels.api as sm\n",
    "\n",
    "from sklearn.preprocessing import LabelEncoder\n",
    "%matplotlib inline"
   ]
  },
  {
   "cell_type": "code",
   "execution_count": 2,
   "metadata": {},
   "outputs": [],
   "source": [
    "bnb_listings = pd.read_csv('data/listings.csv')\n",
    "bnb_cal = pd.read_csv('data/calendar.csv')\n",
    "\n",
    "#Clean up price column\n",
    "bnb_listings['price'].fillna(0, inplace=True)\n",
    "\n",
    "#Function to convert string money to float money\n",
    "def money_str_to_float(x):\n",
    "    if type(x) == str:\n",
    "        x = x.replace('$','')\n",
    "        x = x.replace(',','')\n",
    "        return float(x)\n",
    "    elif type(x) == int:\n",
    "        return float(x)"
   ]
  },
  {
   "cell_type": "code",
   "execution_count": 33,
   "metadata": {},
   "outputs": [
    {
     "data": {
      "text/plain": [
       "{1, 3, 4, 5}"
      ]
     },
     "execution_count": 33,
     "metadata": {},
     "output_type": "execute_result"
    }
   ],
   "source": [
    "list_a = [1,1,3,4,4,5]\n",
    "\n",
    "set(list_a)"
   ]
  },
  {
   "cell_type": "code",
   "execution_count": 16,
   "metadata": {},
   "outputs": [
    {
     "data": {
      "text/plain": [
       "'Queen Anne is a wonderful, truly functional village.  You can walk everywhere... for coffee, for groceries, for a night out, for breathtaking views of the Puget Sound.'"
      ]
     },
     "execution_count": 16,
     "metadata": {},
     "output_type": "execute_result"
    }
   ],
   "source": [
    "bnb_listings['neighborhood_overview'][1]"
   ]
  },
  {
   "cell_type": "code",
   "execution_count": 3,
   "metadata": {},
   "outputs": [],
   "source": [
    "bnb_listings_master = bnb_listings[['id', #DO NOT DELETE. USEFUL FOR REFERENCING THE LIST OF COLUMNS\n",
    " 'listing_url',\n",
    " 'scrape_id',\n",
    " 'last_scraped',\n",
    " 'name',\n",
    " 'summary',\n",
    " 'space',\n",
    " 'description',\n",
    " 'experiences_offered',\n",
    " 'neighborhood_overview',\n",
    " 'notes',\n",
    " 'transit',\n",
    " 'thumbnail_url',\n",
    " 'medium_url',\n",
    " 'picture_url',\n",
    " 'xl_picture_url',\n",
    " 'host_id',\n",
    " 'host_url',\n",
    " 'host_name',\n",
    " 'host_since',\n",
    " 'host_location',\n",
    " 'host_about',\n",
    " 'host_response_time',\n",
    " 'host_response_rate',\n",
    " 'host_acceptance_rate',\n",
    " 'host_is_superhost',\n",
    " 'host_thumbnail_url',\n",
    " 'host_picture_url',\n",
    " 'host_neighbourhood',\n",
    " 'host_listings_count',\n",
    " 'host_total_listings_count',\n",
    " 'host_verifications',\n",
    " 'host_has_profile_pic',\n",
    " 'host_identity_verified',\n",
    " 'street',\n",
    " 'neighbourhood',\n",
    " 'neighbourhood_cleansed',\n",
    " 'neighbourhood_group_cleansed',\n",
    " 'city',\n",
    " 'state',\n",
    " 'zipcode',\n",
    " 'market',\n",
    " 'smart_location',\n",
    " 'country_code',\n",
    " 'country',\n",
    " 'latitude',\n",
    " 'longitude',\n",
    " 'is_location_exact',\n",
    " 'property_type',\n",
    " 'room_type',\n",
    " 'accommodates',\n",
    " 'bathrooms',\n",
    " 'bedrooms',\n",
    " 'beds',\n",
    " 'bed_type',\n",
    " 'amenities',\n",
    " 'square_feet',\n",
    " 'price',\n",
    " 'weekly_price',\n",
    " 'monthly_price',\n",
    " 'security_deposit',\n",
    " 'cleaning_fee',\n",
    " 'guests_included',\n",
    " 'extra_people',\n",
    " 'minimum_nights',\n",
    " 'maximum_nights',\n",
    " 'calendar_updated',\n",
    " 'has_availability',\n",
    " 'availability_30',\n",
    " 'availability_60',\n",
    " 'availability_90',\n",
    " 'availability_365',\n",
    " 'calendar_last_scraped',\n",
    " 'number_of_reviews',\n",
    " 'first_review',\n",
    " 'last_review',\n",
    " 'review_scores_rating',\n",
    " 'review_scores_accuracy',\n",
    " 'review_scores_cleanliness',\n",
    " 'review_scores_checkin',\n",
    " 'review_scores_communication',\n",
    " 'review_scores_location',\n",
    " 'review_scores_value',\n",
    " 'requires_license',\n",
    " 'license',\n",
    " 'jurisdiction_names',\n",
    " 'instant_bookable',\n",
    " 'cancellation_policy',\n",
    " 'require_guest_profile_picture',\n",
    " 'require_guest_phone_verification',\n",
    " 'calculated_host_listings_count',\n",
    " 'reviews_per_month']]"
   ]
  },
  {
   "cell_type": "code",
   "execution_count": 4,
   "metadata": {},
   "outputs": [],
   "source": [
    "bnb_listings_abbrev = bnb_listings[['id',\n",
    " 'host_listings_count',\n",
    " 'host_total_listings_count',\n",
    " 'street',\n",
    " 'neighbourhood_cleansed',\n",
    " 'neighbourhood_group_cleansed',\n",
    " 'city',\n",
    " 'state',\n",
    " 'zipcode',\n",
    " 'market',\n",
    " 'smart_location',\n",
    " 'country_code',\n",
    " 'country',\n",
    " 'latitude',\n",
    " 'longitude',\n",
    " 'is_location_exact',\n",
    " 'property_type',\n",
    " 'room_type',\n",
    " 'accommodates',\n",
    " 'bed_type',\n",
    " 'amenities',\n",
    " 'price',\n",
    " 'guests_included',\n",
    " 'extra_people',\n",
    " 'minimum_nights',\n",
    " 'maximum_nights',\n",
    " 'has_availability',\n",
    " 'availability_30',\n",
    " 'number_of_reviews',\n",
    " 'review_scores_rating',\n",
    " 'review_scores_accuracy',\n",
    " 'review_scores_cleanliness',\n",
    " 'review_scores_checkin',\n",
    " 'review_scores_communication',\n",
    " 'review_scores_location',\n",
    " 'review_scores_value',\n",
    " 'reviews_per_month']]"
   ]
  },
  {
   "cell_type": "code",
   "execution_count": 5,
   "metadata": {},
   "outputs": [
    {
     "name": "stderr",
     "output_type": "stream",
     "text": [
      "/Users/danielbradley/opt/anaconda3/lib/python3.8/site-packages/pandas/util/_decorators.py:311: SettingWithCopyWarning: \n",
      "A value is trying to be set on a copy of a slice from a DataFrame\n",
      "\n",
      "See the caveats in the documentation: https://pandas.pydata.org/pandas-docs/stable/user_guide/indexing.html#returning-a-view-versus-a-copy\n",
      "  return func(*args, **kwargs)\n",
      "/var/folders/9z/tw9j8p_n7w3fdl6dpkycs1p00000gn/T/ipykernel_24494/3488284897.py:3: SettingWithCopyWarning: \n",
      "A value is trying to be set on a copy of a slice from a DataFrame.\n",
      "Try using .loc[row_indexer,col_indexer] = value instead\n",
      "\n",
      "See the caveats in the documentation: https://pandas.pydata.org/pandas-docs/stable/user_guide/indexing.html#returning-a-view-versus-a-copy\n",
      "  bnb_listings_abbrev['price'] = bnb_listings_abbrev['price'].apply(lambda x: money_str_to_float(x))\n",
      "/var/folders/9z/tw9j8p_n7w3fdl6dpkycs1p00000gn/T/ipykernel_24494/3488284897.py:4: SettingWithCopyWarning: \n",
      "A value is trying to be set on a copy of a slice from a DataFrame.\n",
      "Try using .loc[row_indexer,col_indexer] = value instead\n",
      "\n",
      "See the caveats in the documentation: https://pandas.pydata.org/pandas-docs/stable/user_guide/indexing.html#returning-a-view-versus-a-copy\n",
      "  bnb_listings_abbrev['earnings_per_mo'] = bnb_listings_abbrev['price'] * (30 - bnb_listings_abbrev['availability_30'])\n"
     ]
    }
   ],
   "source": [
    "#Clean the DataFrame\n",
    "bnb_listings_abbrev.dropna(inplace=True)\n",
    "bnb_listings_abbrev['price'] = bnb_listings_abbrev['price'].apply(lambda x: money_str_to_float(x))\n",
    "bnb_listings_abbrev['earnings_per_mo'] = bnb_listings_abbrev['price'] * (30 - bnb_listings_abbrev['availability_30']) #"
   ]
  },
  {
   "cell_type": "code",
   "execution_count": 6,
   "metadata": {},
   "outputs": [],
   "source": [
    "def generate_collinearity_pairs(x):\n",
    "\n",
    "    # save absolute value of correlation matrix as a data frame\n",
    "    # converts all values to absolute value\n",
    "    # stacks the row:column pairs into a multindex\n",
    "    # reset the index to set the multindex to seperate columns\n",
    "    # sort values. 0 is the column automatically generated by the stacking\n",
    "\n",
    "    df=x.corr().abs().stack().reset_index().sort_values(0, ascending=False)\n",
    "\n",
    "    # zip the variable name columns (Which were only named level_0 and level_1 by default) in a new column named \"pairs\"\n",
    "    df['pairs'] = list(zip(df.level_0, df.level_1))\n",
    "\n",
    "    # set index to pairs\n",
    "    df.set_index(['pairs'], inplace = True)\n",
    "\n",
    "    #d rop level columns\n",
    "    df.drop(columns=['level_1', 'level_0'], inplace = True)\n",
    "\n",
    "    # rename correlation column as cc rather than 0\n",
    "    df.columns = ['cc']\n",
    "\n",
    "    # drop duplicates. This could be dangerous if you have variables perfectly correlated with variables other than themselves.\n",
    "    # for the sake of exercise, kept it in.\n",
    "    df.drop_duplicates(inplace=True)\n",
    "\n",
    "    return df"
   ]
  },
  {
   "cell_type": "code",
   "execution_count": 7,
   "metadata": {},
   "outputs": [
    {
     "data": {
      "text/html": [
       "<div>\n",
       "<style scoped>\n",
       "    .dataframe tbody tr th:only-of-type {\n",
       "        vertical-align: middle;\n",
       "    }\n",
       "\n",
       "    .dataframe tbody tr th {\n",
       "        vertical-align: top;\n",
       "    }\n",
       "\n",
       "    .dataframe thead th {\n",
       "        text-align: right;\n",
       "    }\n",
       "</style>\n",
       "<table border=\"1\" class=\"dataframe\">\n",
       "  <thead>\n",
       "    <tr style=\"text-align: right;\">\n",
       "      <th></th>\n",
       "      <th>cc</th>\n",
       "    </tr>\n",
       "    <tr>\n",
       "      <th>pairs</th>\n",
       "      <th></th>\n",
       "    </tr>\n",
       "  </thead>\n",
       "  <tbody>\n",
       "  </tbody>\n",
       "</table>\n",
       "</div>"
      ],
      "text/plain": [
       "Empty DataFrame\n",
       "Columns: [cc]\n",
       "Index: []"
      ]
     },
     "execution_count": 7,
     "metadata": {},
     "output_type": "execute_result"
    }
   ],
   "source": [
    "df = generate_collinearity_pairs(bnb_listings_abbrev)\n",
    "\n",
    "#drop a variable from each highly collinear pair\n",
    "df[(df.cc>.75) & (df.cc <1)]"
   ]
  },
  {
   "cell_type": "code",
   "execution_count": 8,
   "metadata": {},
   "outputs": [],
   "source": [
    "#Ran once to update earnings_data.csv\n",
    "#bnb_listings_abbrev.to_csv('data/earnings_data.csv')"
   ]
  },
  {
   "cell_type": "code",
   "execution_count": 26,
   "metadata": {},
   "outputs": [],
   "source": [
    "synthetic_mortgages_df = bnb_listings_master[[\n",
    " 'bedrooms',\n",
    " 'bathrooms',\n",
    " 'zipcode',\n",
    " 'host_listings_count',\n",
    " 'neighbourhood_cleansed',\n",
    " 'zipcode',\n",
    " 'latitude',\n",
    " 'longitude',\n",
    " 'property_type',\n",
    " 'room_type',\n",
    " 'accommodates',\n",
    " 'price',\n",
    " 'guests_included',\n",
    " 'minimum_nights',\n",
    " 'maximum_nights',\n",
    " 'availability_30',\n",
    " 'number_of_reviews',\n",
    " 'review_scores_rating',\n",
    " 'review_scores_accuracy',\n",
    " 'review_scores_cleanliness',\n",
    " 'review_scores_communication',\n",
    " 'review_scores_location',\n",
    " 'reviews_per_month']];"
   ]
  },
  {
   "cell_type": "code",
   "execution_count": 27,
   "metadata": {},
   "outputs": [],
   "source": [
    "def encode_cat(df_series):\n",
    "    lb_maker = LabelEncoder()\n",
    "    cat_encoded = lb_maker.fit_transform(df_series)\n",
    "    return cat_encoded"
   ]
  },
  {
   "cell_type": "code",
   "execution_count": 28,
   "metadata": {},
   "outputs": [
    {
     "name": "stderr",
     "output_type": "stream",
     "text": [
      "/var/folders/9z/tw9j8p_n7w3fdl6dpkycs1p00000gn/T/ipykernel_24494/4133050044.py:4: SettingWithCopyWarning: \n",
      "A value is trying to be set on a copy of a slice from a DataFrame.\n",
      "Try using .loc[row_indexer,col_indexer] = value instead\n",
      "\n",
      "See the caveats in the documentation: https://pandas.pydata.org/pandas-docs/stable/user_guide/indexing.html#returning-a-view-versus-a-copy\n",
      "  synthetic_mortgages_df[item] = pd.Categorical(encode_cat(synthetic_mortgages_df[item]))\n"
     ]
    }
   ],
   "source": [
    "encode_list = ['property_type','room_type','neighbourhood_cleansed']\n",
    "\n",
    "for item in encode_list:\n",
    "    synthetic_mortgages_df[item] = pd.Categorical(encode_cat(synthetic_mortgages_df[item]))"
   ]
  },
  {
   "cell_type": "code",
   "execution_count": 32,
   "metadata": {},
   "outputs": [
    {
     "name": "stderr",
     "output_type": "stream",
     "text": [
      "/Users/danielbradley/opt/anaconda3/lib/python3.8/site-packages/pandas/util/_decorators.py:311: SettingWithCopyWarning: \n",
      "A value is trying to be set on a copy of a slice from a DataFrame\n",
      "\n",
      "See the caveats in the documentation: https://pandas.pydata.org/pandas-docs/stable/user_guide/indexing.html#returning-a-view-versus-a-copy\n",
      "  return func(*args, **kwargs)\n"
     ]
    }
   ],
   "source": [
    "synthetic_mortgages_df.dropna(inplace=True)"
   ]
  },
  {
   "cell_type": "code",
   "execution_count": null,
   "metadata": {},
   "outputs": [],
   "source": []
  }
 ],
 "metadata": {
  "interpreter": {
   "hash": "0c1f5ce8eed932a4317a88fdfc83317a84584de98614c992901b7b196b5e3487"
  },
  "kernelspec": {
   "display_name": "Python 3.8.8 ('base')",
   "language": "python",
   "name": "python3"
  },
  "language_info": {
   "codemirror_mode": {
    "name": "ipython",
    "version": 3
   },
   "file_extension": ".py",
   "mimetype": "text/x-python",
   "name": "python",
   "nbconvert_exporter": "python",
   "pygments_lexer": "ipython3",
   "version": "3.8.8"
  },
  "orig_nbformat": 4
 },
 "nbformat": 4,
 "nbformat_minor": 2
}
